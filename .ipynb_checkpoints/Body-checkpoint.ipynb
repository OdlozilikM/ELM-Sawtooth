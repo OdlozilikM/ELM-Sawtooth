{
 "cells": [
  {
   "cell_type": "code",
   "execution_count": 4,
   "metadata": {},
   "outputs": [],
   "source": [
    "# -- use this line at the beginning of your notebook to turn on interactive plots\n",
    "%matplotlib notebook\n",
    "\n",
    "# Imports\n",
    "import sys\n",
    "import matplotlib.pyplot as plt  # plotting library\n",
    "from matplotlib import colors\n",
    "import numpy as np  # work with numeric arrays without labeled axes\n",
    "import xarray as xr  # work with arrays with labeled axes\n",
    "import xrscipy.signal as dsp  # xarray signal filtering etc.\n",
    "import scipy as sps\n",
    "from cdb_extras import xarray_support as cdbxr  # access to COMPASS Database (CDB)\n",
    "import pickle # to save data\n",
    "from pathlib import Path # to easily work with different files\n",
    "from progressbar import ProgressBar\n",
    "from typing import Optional, Union\n",
    "from dataclasses import dataclass\n",
    "from typing import Optional\n",
    "plt.rcParams.update({'font.size': 14})"
   ]
  },
  {
   "cell_type": "code",
   "execution_count": 18,
   "metadata": {},
   "outputs": [
    {
     "ename": "ImportError",
     "evalue": "cannot import name 'get_thomson_data' from 'core.pedestal_fit' (/compass/home/odlozilik/repos/ELM-Sawtooth/core/pedestal_fit.py)",
     "output_type": "error",
     "traceback": [
      "\u001b[0;31m---------------------------------------------------------------------------\u001b[0m",
      "\u001b[0;31mImportError\u001b[0m                               Traceback (most recent call last)",
      "\u001b[0;32m<ipython-input-18-2b5a21e285ed>\u001b[0m in \u001b[0;36m<module>\u001b[0;34m\u001b[0m\n\u001b[0;32m----> 1\u001b[0;31m \u001b[0;32mfrom\u001b[0m \u001b[0mcore\u001b[0m\u001b[0;34m.\u001b[0m\u001b[0mpedestal_fit\u001b[0m \u001b[0;32mimport\u001b[0m \u001b[0mPedestalParams\u001b[0m\u001b[0;34m,\u001b[0m \u001b[0mget_thomson_data\u001b[0m\u001b[0;34m\u001b[0m\u001b[0;34m\u001b[0m\u001b[0m\n\u001b[0m",
      "\u001b[0;31mImportError\u001b[0m: cannot import name 'get_thomson_data' from 'core.pedestal_fit' (/compass/home/odlozilik/repos/ELM-Sawtooth/core/pedestal_fit.py)"
     ]
    }
   ],
   "source": [
    "from core.pedestal_fit import PedestalParams, get_thomson_data\n"
   ]
  },
  {
   "cell_type": "code",
   "execution_count": null,
   "metadata": {},
   "outputs": [],
   "source": [
    "# Only use Thomson data from this normalized psi value and up\n",
    "psi_n_lim = 0.6"
   ]
  },
  {
   "cell_type": "code",
   "execution_count": null,
   "metadata": {},
   "outputs": [],
   "source": []
  }
 ],
 "metadata": {
  "kernelspec": {
   "display_name": "Python 3",
   "language": "python",
   "name": "python3"
  },
  "language_info": {
   "codemirror_mode": {
    "name": "ipython",
    "version": 3
   },
   "file_extension": ".py",
   "mimetype": "text/x-python",
   "name": "python",
   "nbconvert_exporter": "python",
   "pygments_lexer": "ipython3",
   "version": "3.8.3"
  }
 },
 "nbformat": 4,
 "nbformat_minor": 2
}
