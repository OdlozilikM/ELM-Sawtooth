{
 "cells": [
  {
   "cell_type": "code",
   "execution_count": 1,
   "metadata": {},
   "outputs": [
    {
     "name": "stderr",
     "output_type": "stream",
     "text": [
      "/compass/home/odlozilik/.local/lib/python3.8/site-packages/pandas/core/computation/expressions.py:20: UserWarning: Pandas requires version '2.7.3' or newer of 'numexpr' (version '2.7.1' currently installed).\n",
      "  from pandas.core.computation.check import NUMEXPR_INSTALLED\n"
     ]
    }
   ],
   "source": [
    "# -- use this line at the beginning of your notebook to turn on interactive plots\n",
    "%matplotlib notebook\n",
    "\n",
    "# Imports\n",
    "import sys\n",
    "import matplotlib.pyplot as plt  # plotting library\n",
    "from matplotlib import colors\n",
    "import numpy as np  # work with numeric arrays without labeled axes\n",
    "import xarray as xr  # work with arrays with labeled axes\n",
    "import xrscipy.signal as dsp  # xarray signal filtering etc.\n",
    "import scipy as sps\n",
    "from cdb_extras import xarray_support as cdbxr  # access to COMPASS Database (CDB)\n",
    "import pickle # to save data\n",
    "from pathlib import Path # to easily work with different files\n",
    "from progressbar import ProgressBar\n",
    "from typing import Optional, Union\n",
    "from dataclasses import dataclass\n",
    "from typing import Optional\n",
    "plt.rcParams.update({'font.size': 14})"
   ]
  },
  {
   "cell_type": "code",
   "execution_count": 2,
   "metadata": {},
   "outputs": [],
   "source": [
    "from core.pedestal_fit import PedestalParams, get_thomson_data, fit, pedestal_params_extraction"
   ]
  },
  {
   "cell_type": "code",
   "execution_count": 3,
   "metadata": {},
   "outputs": [],
   "source": [
    "# Only use Thomson data from this normalized psi value and up\n",
    "psi_n_lim = 0.6"
   ]
  },
  {
   "cell_type": "code",
   "execution_count": 4,
   "metadata": {},
   "outputs": [
    {
     "name": "stdout",
     "output_type": "stream",
     "text": [
      "Help on function pedestal_params_extraction in module core.pedestal_fit:\n",
      "\n",
      "pedestal_params_extraction(shot_nr: int, psi_n_lim: int, save_path: Union[pathlib.Path, str, NoneType] = None)\n",
      "    Takes one shot number, and fits the pedestal of all thomson scattering profiles recorded within H-modes. Also calculates \n",
      "    the position of the TS measurement in relation to the sawteeth and the ELMs, both in units of time and phase.\n",
      "    \n",
      "    From the fits, it calculates the pedestal height, width, and gradient for pressure, density and temperature, as well \n",
      "    as their fit errors in standard deviations.\n",
      "    \n",
      "    To automatically save the results, pass a folder path as `save_path`.\n",
      "\n"
     ]
    }
   ],
   "source": [
    "help(pedestal_params_extraction)"
   ]
  },
  {
   "cell_type": "code",
   "execution_count": 5,
   "metadata": {
    "scrolled": false
   },
   "outputs": [
    {
     "name": "stdout",
     "output_type": "stream",
     "text": [
      "Using stray corrected data\n"
     ]
    },
    {
     "name": "stderr",
     "output_type": "stream",
     "text": [
      "\r",
      "  0% (0 of 55) |                         | Elapsed Time: 0:00:00 ETA:  --:--:--"
     ]
    },
    {
     "name": "stdout",
     "output_type": "stream",
     "text": [
      "Number of H-mode intervals : 1\n"
     ]
    },
    {
     "name": "stderr",
     "output_type": "stream",
     "text": [
      " 27% (15 of 55) |######                  | Elapsed Time: 0:00:03 ETA:   0:00:24"
     ]
    },
    {
     "name": "stdout",
     "output_type": "stream",
     "text": [
      "Could not fit at 1105ms. Reason: Optimal parameters not found: Number of calls to function has reached maxfev = 1000.\n"
     ]
    },
    {
     "name": "stderr",
     "output_type": "stream",
     "text": [
      " 29% (16 of 55) |######                  | Elapsed Time: 0:00:11 ETA:   0:05:14/compass/home/odlozilik/repos/ELM-Sawtooth/core/pedestal_fit.py:152: RuntimeWarning: invalid value encountered in sqrt\n",
      "  stdevs = np.sqrt(np.diag(pcov))\n",
      " 36% (20 of 55) |########                | Elapsed Time: 0:00:14 ETA:   0:00:25/compass/home/odlozilik/.local/lib/python3.8/site-packages/scipy/optimize/_minpack_py.py:881: OptimizeWarning: Covariance of the parameters could not be estimated\n",
      "  warnings.warn('Covariance of the parameters could not be estimated',\n"
     ]
    },
    {
     "name": "stdout",
     "output_type": "stream",
     "text": [
      "Huge error on b_height at 1147ms. err: inf, val:5.9e+04. Dropping it.\n"
     ]
    },
    {
     "name": "stderr",
     "output_type": "stream",
     "text": [
      " 43% (24 of 55) |##########              | Elapsed Time: 0:00:18 ETA:   0:00:33"
     ]
    },
    {
     "name": "stdout",
     "output_type": "stream",
     "text": [
      "Huge error on b_height at 1180ms. err: 3.4e+02, val:3.4e+02. Dropping it.\n"
     ]
    },
    {
     "name": "stderr",
     "output_type": "stream",
     "text": [
      " 47% (26 of 55) |###########             | Elapsed Time: 0:00:20 ETA:   0:00:29"
     ]
    },
    {
     "name": "stdout",
     "output_type": "stream",
     "text": [
      "Could not fit 1 out of 55 measurements.\n"
     ]
    },
    {
     "ename": "AttributeError",
     "evalue": "scipy.signal.spectral is deprecated and has no attribute _spectral_helper. Try looking in scipy.signal instead.",
     "output_type": "error",
     "traceback": [
      "\u001b[0;31m---------------------------------------------------------------------------\u001b[0m",
      "\u001b[0;31mAttributeError\u001b[0m                            Traceback (most recent call last)",
      "\u001b[0;32m<ipython-input-5-5a093b7e93d7>\u001b[0m in \u001b[0;36m<module>\u001b[0;34m\u001b[0m\n\u001b[0;32m----> 1\u001b[0;31m \u001b[0mtest\u001b[0m\u001b[0;34m=\u001b[0m\u001b[0mpedestal_params_extraction\u001b[0m\u001b[0;34m(\u001b[0m\u001b[0;36m18252\u001b[0m\u001b[0;34m,\u001b[0m \u001b[0mpsi_n_lim\u001b[0m\u001b[0;34m)\u001b[0m\u001b[0;34m\u001b[0m\u001b[0;34m\u001b[0m\u001b[0m\n\u001b[0m",
      "\u001b[0;32m~/repos/ELM-Sawtooth/core/pedestal_fit.py\u001b[0m in \u001b[0;36mpedestal_params_extraction\u001b[0;34m(shot_nr, psi_n_lim, save_path)\u001b[0m\n\u001b[1;32m    404\u001b[0m     \u001b[0mprint\u001b[0m\u001b[0;34m(\u001b[0m\u001b[0;34mf\"Could not fit {no_fit_counter} out of {len(time_data)} measurements.\"\u001b[0m\u001b[0;34m)\u001b[0m\u001b[0;34m\u001b[0m\u001b[0;34m\u001b[0m\u001b[0m\n\u001b[1;32m    405\u001b[0m \u001b[0;34m\u001b[0m\u001b[0m\n\u001b[0;32m--> 406\u001b[0;31m     \u001b[0mne_st_phase\u001b[0m\u001b[0;34m,\u001b[0m \u001b[0mne_st_time\u001b[0m\u001b[0;34m,\u001b[0m \u001b[0m_\u001b[0m \u001b[0;34m=\u001b[0m \u001b[0mST_time_and_phase\u001b[0m\u001b[0;34m(\u001b[0m\u001b[0mshot_nr\u001b[0m\u001b[0;34m,\u001b[0m \u001b[0mne_time\u001b[0m\u001b[0;34m[\u001b[0m\u001b[0;34m:\u001b[0m\u001b[0mn_ne_fits\u001b[0m\u001b[0;34m]\u001b[0m\u001b[0;34m,\u001b[0m \u001b[0mrelative_to_nearest\u001b[0m\u001b[0;34m=\u001b[0m\u001b[0;32mTrue\u001b[0m\u001b[0;34m)\u001b[0m\u001b[0;34m\u001b[0m\u001b[0;34m\u001b[0m\u001b[0m\n\u001b[0m\u001b[1;32m    407\u001b[0m     \u001b[0mne_elm_phase\u001b[0m\u001b[0;34m,\u001b[0m \u001b[0mne_elm_time\u001b[0m\u001b[0;34m,\u001b[0m \u001b[0m_\u001b[0m \u001b[0;34m=\u001b[0m \u001b[0mELM_phase\u001b[0m\u001b[0;34m(\u001b[0m\u001b[0mshot_nr\u001b[0m\u001b[0;34m,\u001b[0m \u001b[0mne_time\u001b[0m\u001b[0;34m[\u001b[0m\u001b[0;34m:\u001b[0m\u001b[0mn_ne_fits\u001b[0m\u001b[0;34m]\u001b[0m\u001b[0;34m)\u001b[0m\u001b[0;34m\u001b[0m\u001b[0;34m\u001b[0m\u001b[0m\n\u001b[1;32m    408\u001b[0m     \u001b[0mpe_st_phase\u001b[0m\u001b[0;34m,\u001b[0m \u001b[0mpe_st_time\u001b[0m\u001b[0;34m,\u001b[0m \u001b[0m_\u001b[0m \u001b[0;34m=\u001b[0m \u001b[0mST_time_and_phase\u001b[0m\u001b[0;34m(\u001b[0m\u001b[0mshot_nr\u001b[0m\u001b[0;34m,\u001b[0m \u001b[0mpe_time\u001b[0m\u001b[0;34m[\u001b[0m\u001b[0;34m:\u001b[0m\u001b[0mn_pe_fits\u001b[0m\u001b[0;34m]\u001b[0m\u001b[0;34m,\u001b[0m \u001b[0mrelative_to_nearest\u001b[0m\u001b[0;34m=\u001b[0m\u001b[0;32mTrue\u001b[0m\u001b[0;34m)\u001b[0m\u001b[0;34m\u001b[0m\u001b[0;34m\u001b[0m\u001b[0m\n",
      "\u001b[0;32m~/repos/ELM-Sawtooth/core/pedestal_fit.py\u001b[0m in \u001b[0;36mST_time_and_phase\u001b[0;34m(nshot, t, relative_to_nearest)\u001b[0m\n\u001b[1;32m    185\u001b[0m \u001b[0;34m\u001b[0m\u001b[0m\n\u001b[1;32m    186\u001b[0m     \u001b[0;32mif\u001b[0m \u001b[0;32mnot\u001b[0m \u001b[0mfilepath\u001b[0m\u001b[0;34m.\u001b[0m\u001b[0mexists\u001b[0m\u001b[0;34m(\u001b[0m\u001b[0;34m)\u001b[0m\u001b[0;34m:\u001b[0m\u001b[0;34m\u001b[0m\u001b[0;34m\u001b[0m\u001b[0m\n\u001b[0;32m--> 187\u001b[0;31m         \u001b[0mST_detector\u001b[0m\u001b[0;34m(\u001b[0m\u001b[0mnshot\u001b[0m\u001b[0;34m,\u001b[0m \u001b[0msave_path\u001b[0m\u001b[0;34m=\u001b[0m\u001b[0;34m'./sawtooth_data'\u001b[0m\u001b[0;34m)\u001b[0m\u001b[0;34m\u001b[0m\u001b[0;34m\u001b[0m\u001b[0m\n\u001b[0m\u001b[1;32m    188\u001b[0m \u001b[0;34m\u001b[0m\u001b[0m\n\u001b[1;32m    189\u001b[0m     \u001b[0;32mwith\u001b[0m \u001b[0mopen\u001b[0m\u001b[0;34m(\u001b[0m\u001b[0mfilepath\u001b[0m\u001b[0;34m,\u001b[0m \u001b[0;34m'rb'\u001b[0m\u001b[0;34m)\u001b[0m \u001b[0;32mas\u001b[0m \u001b[0mfp\u001b[0m\u001b[0;34m:\u001b[0m\u001b[0;34m\u001b[0m\u001b[0;34m\u001b[0m\u001b[0m\n",
      "\u001b[0;32m~/repos/ELM-Sawtooth/core/sawtooth_extraction.py\u001b[0m in \u001b[0;36mST_detector\u001b[0;34m(shot_nr, is_core, with_plots, save_path)\u001b[0m\n\u001b[1;32m    241\u001b[0m     \u001b[0msave_path\u001b[0m \u001b[0;34m=\u001b[0m \u001b[0mPath\u001b[0m\u001b[0;34m(\u001b[0m\u001b[0msave_path\u001b[0m\u001b[0;34m)\u001b[0m \u001b[0;32mif\u001b[0m \u001b[0msave_path\u001b[0m \u001b[0;32mis\u001b[0m \u001b[0;32mnot\u001b[0m \u001b[0;32mNone\u001b[0m \u001b[0;32melse\u001b[0m \u001b[0msave_path\u001b[0m\u001b[0;34m\u001b[0m\u001b[0;34m\u001b[0m\u001b[0m\n\u001b[1;32m    242\u001b[0m     \u001b[0;31m# Fetch data\u001b[0m\u001b[0;34m\u001b[0m\u001b[0;34m\u001b[0m\u001b[0;34m\u001b[0m\u001b[0m\n\u001b[0;32m--> 243\u001b[0;31m     \u001b[0mSXR_smoothed\u001b[0m\u001b[0;34m,\u001b[0m \u001b[0mSXR_smoothed_diff\u001b[0m\u001b[0;34m,\u001b[0m \u001b[0mspec\u001b[0m\u001b[0;34m,\u001b[0m \u001b[0msum_spec\u001b[0m \u001b[0;34m=\u001b[0m \u001b[0m_get_data\u001b[0m\u001b[0;34m(\u001b[0m\u001b[0mshot_nr\u001b[0m\u001b[0;34m,\u001b[0m \u001b[0mis_core\u001b[0m\u001b[0;34m,\u001b[0m \u001b[0mwith_plots\u001b[0m\u001b[0;34m)\u001b[0m\u001b[0;34m\u001b[0m\u001b[0;34m\u001b[0m\u001b[0m\n\u001b[0m\u001b[1;32m    244\u001b[0m \u001b[0;34m\u001b[0m\u001b[0m\n\u001b[1;32m    245\u001b[0m     \u001b[0;31m# Locate crashes\u001b[0m\u001b[0;34m\u001b[0m\u001b[0;34m\u001b[0m\u001b[0;34m\u001b[0m\u001b[0m\n",
      "\u001b[0;32m~/repos/ELM-Sawtooth/core/sawtooth_extraction.py\u001b[0m in \u001b[0;36m_get_data\u001b[0;34m(shot_nr, is_core, plot, f_high, f_low)\u001b[0m\n\u001b[1;32m     48\u001b[0m     \u001b[0mSXR_smoothed_diff\u001b[0m\u001b[0;34m.\u001b[0m\u001b[0mvalues\u001b[0m \u001b[0;34m=\u001b[0m \u001b[0mnp\u001b[0m\u001b[0;34m.\u001b[0m\u001b[0mgradient\u001b[0m\u001b[0;34m(\u001b[0m\u001b[0mSXR_smoothed\u001b[0m\u001b[0;34m.\u001b[0m\u001b[0mdata\u001b[0m\u001b[0;34m)\u001b[0m \u001b[0;34m*\u001b[0m \u001b[0mfs\u001b[0m\u001b[0;34m\u001b[0m\u001b[0;34m\u001b[0m\u001b[0m\n\u001b[1;32m     49\u001b[0m \u001b[0;34m\u001b[0m\u001b[0m\n\u001b[0;32m---> 50\u001b[0;31m     \u001b[0mspec\u001b[0m \u001b[0;34m=\u001b[0m \u001b[0mdsp\u001b[0m\u001b[0;34m.\u001b[0m\u001b[0mspectrogram\u001b[0m\u001b[0;34m(\u001b[0m\u001b[0mSXR_smoothed\u001b[0m\u001b[0;34m,\u001b[0m \u001b[0mnperseg\u001b[0m\u001b[0;34m=\u001b[0m\u001b[0;36m2\u001b[0m\u001b[0;34m**\u001b[0m\u001b[0;36m16\u001b[0m\u001b[0;34m,\u001b[0m \u001b[0mfs\u001b[0m\u001b[0;34m=\u001b[0m\u001b[0mfs\u001b[0m\u001b[0;34m)\u001b[0m\u001b[0;34m\u001b[0m\u001b[0;34m\u001b[0m\u001b[0m\n\u001b[0m\u001b[1;32m     51\u001b[0m     \u001b[0mspec\u001b[0m \u001b[0;34m=\u001b[0m \u001b[0mspec\u001b[0m\u001b[0;34m.\u001b[0m\u001b[0msel\u001b[0m\u001b[0;34m(\u001b[0m\u001b[0mfrequency\u001b[0m\u001b[0;34m=\u001b[0m\u001b[0mslice\u001b[0m\u001b[0;34m(\u001b[0m\u001b[0;36m0\u001b[0m\u001b[0;34m,\u001b[0m \u001b[0;36m2\u001b[0m\u001b[0;34m)\u001b[0m\u001b[0;34m)\u001b[0m\u001b[0;34m\u001b[0m\u001b[0;34m\u001b[0m\u001b[0m\n\u001b[1;32m     52\u001b[0m \u001b[0;34m\u001b[0m\u001b[0m\n",
      "\u001b[0;32m/sw/python/3.8-anaconda-2020.07/lib/python3.8/site-packages/xrscipy/signal/spectral.py\u001b[0m in \u001b[0;36mspectrogram\u001b[0;34m(darray, fs, seglen, overlap_ratio, window, nperseg, noverlap, nfft, detrend, return_onesided, dim, scaling, mode)\u001b[0m\n\u001b[1;32m    319\u001b[0m         \u001b[0mSpectrogram\u001b[0m \u001b[0mof\u001b[0m \u001b[0;34m'darray'\u001b[0m\u001b[0;34m.\u001b[0m\u001b[0;34m\u001b[0m\u001b[0;34m\u001b[0m\u001b[0m\n\u001b[1;32m    320\u001b[0m     \"\"\"\n\u001b[0;32m--> 321\u001b[0;31m     Pxx = crossspectrogram(darray, darray, fs, seglen, overlap_ratio, window,\n\u001b[0m\u001b[1;32m    322\u001b[0m                            \u001b[0mnperseg\u001b[0m\u001b[0;34m,\u001b[0m \u001b[0mnoverlap\u001b[0m\u001b[0;34m,\u001b[0m \u001b[0mnfft\u001b[0m\u001b[0;34m,\u001b[0m \u001b[0mdetrend\u001b[0m\u001b[0;34m,\u001b[0m \u001b[0mreturn_onesided\u001b[0m\u001b[0;34m,\u001b[0m\u001b[0;34m\u001b[0m\u001b[0;34m\u001b[0m\u001b[0m\n\u001b[1;32m    323\u001b[0m                            dim, scaling, mode)\n",
      "\u001b[0;32m/sw/python/3.8-anaconda-2020.07/lib/python3.8/site-packages/xrscipy/signal/spectral.py\u001b[0m in \u001b[0;36mcrossspectrogram\u001b[0;34m(darray, other_darray, fs, seglen, overlap_ratio, window, nperseg, noverlap, nfft, detrend, return_onesided, dim, scaling, mode)\u001b[0m\n\u001b[1;32m    147\u001b[0m     \u001b[0;31m# should be the same for other_darray after align\u001b[0m\u001b[0;34m\u001b[0m\u001b[0;34m\u001b[0m\u001b[0;34m\u001b[0m\u001b[0m\n\u001b[1;32m    148\u001b[0m     \u001b[0maxis\u001b[0m \u001b[0;34m=\u001b[0m \u001b[0mdarray\u001b[0m\u001b[0;34m.\u001b[0m\u001b[0mget_axis_num\u001b[0m\u001b[0;34m(\u001b[0m\u001b[0mdim\u001b[0m\u001b[0;34m)\u001b[0m\u001b[0;34m\u001b[0m\u001b[0;34m\u001b[0m\u001b[0m\n\u001b[0;32m--> 149\u001b[0;31m     f, t, Pxy = scipy.signal.spectral._spectral_helper(d_val,\n\u001b[0m\u001b[1;32m    150\u001b[0m                                                        \u001b[0mod_val\u001b[0m\u001b[0;34m,\u001b[0m\u001b[0;34m\u001b[0m\u001b[0;34m\u001b[0m\u001b[0m\n\u001b[1;32m    151\u001b[0m                                                        \u001b[0mfs\u001b[0m\u001b[0;34m,\u001b[0m \u001b[0mwindow\u001b[0m\u001b[0;34m,\u001b[0m \u001b[0mnperseg\u001b[0m\u001b[0;34m,\u001b[0m\u001b[0;34m\u001b[0m\u001b[0;34m\u001b[0m\u001b[0m\n",
      "\u001b[0;32m~/.local/lib/python3.8/site-packages/scipy/signal/spectral.py\u001b[0m in \u001b[0;36m__getattr__\u001b[0;34m(name)\u001b[0m\n\u001b[1;32m     22\u001b[0m \u001b[0;32mdef\u001b[0m \u001b[0m__getattr__\u001b[0m\u001b[0;34m(\u001b[0m\u001b[0mname\u001b[0m\u001b[0;34m)\u001b[0m\u001b[0;34m:\u001b[0m\u001b[0;34m\u001b[0m\u001b[0;34m\u001b[0m\u001b[0m\n\u001b[1;32m     23\u001b[0m     \u001b[0;32mif\u001b[0m \u001b[0mname\u001b[0m \u001b[0;32mnot\u001b[0m \u001b[0;32min\u001b[0m \u001b[0m__all__\u001b[0m\u001b[0;34m:\u001b[0m\u001b[0;34m\u001b[0m\u001b[0;34m\u001b[0m\u001b[0m\n\u001b[0;32m---> 24\u001b[0;31m         raise AttributeError(\n\u001b[0m\u001b[1;32m     25\u001b[0m             \u001b[0;34m\"scipy.signal.spectral is deprecated and has no attribute \"\u001b[0m\u001b[0;34m\u001b[0m\u001b[0;34m\u001b[0m\u001b[0m\n\u001b[1;32m     26\u001b[0m             f\"{name}. Try looking in scipy.signal instead.\")\n",
      "\u001b[0;31mAttributeError\u001b[0m: scipy.signal.spectral is deprecated and has no attribute _spectral_helper. Try looking in scipy.signal instead."
     ]
    }
   ],
   "source": [
    "test=pedestal_params_extraction(18252, psi_n_lim)"
   ]
  },
  {
   "cell_type": "code",
   "execution_count": null,
   "metadata": {},
   "outputs": [],
   "source": []
  }
 ],
 "metadata": {
  "kernelspec": {
   "display_name": "Python 3",
   "language": "python",
   "name": "python3"
  },
  "language_info": {
   "codemirror_mode": {
    "name": "ipython",
    "version": 3
   },
   "file_extension": ".py",
   "mimetype": "text/x-python",
   "name": "python",
   "nbconvert_exporter": "python",
   "pygments_lexer": "ipython3",
   "version": "3.8.3"
  }
 },
 "nbformat": 4,
 "nbformat_minor": 2
}
